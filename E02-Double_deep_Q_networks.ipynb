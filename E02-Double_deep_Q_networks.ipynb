{
 "cells": [
  {
   "cell_type": "code",
   "execution_count": 1,
   "metadata": {},
   "outputs": [],
   "source": [
    "import os\n",
    "import json\n",
    "import gym\n",
    "from gym import wrappers\n",
    "import numpy as np\n",
    "import matplotlib\n",
    "import matplotlib.pyplot as plt\n",
    "from collections import namedtuple\n",
    "from itertools import count \n",
    "import random\n",
    "import torch\n",
    "import torch.nn as nn\n",
    "import torch.optim as optim\n",
    "import torch.nn.functional as F\n",
    "from torch.utils.tensorboard import SummaryWriter"
   ]
  },
  {
   "cell_type": "code",
   "execution_count": 2,
   "metadata": {},
   "outputs": [],
   "source": [
    "#torch.manual_seed(0)\n",
    "#np.random.seed(12345)"
   ]
  },
  {
   "cell_type": "code",
   "execution_count": 3,
   "metadata": {},
   "outputs": [],
   "source": [
    "%matplotlib inline"
   ]
  },
  {
   "cell_type": "code",
   "execution_count": 4,
   "metadata": {},
   "outputs": [],
   "source": [
    "device = torch.device(\"cuda\" if torch.cuda.is_available() else \"cpu\")"
   ]
  },
  {
   "cell_type": "code",
   "execution_count": 5,
   "metadata": {},
   "outputs": [],
   "source": [
    "env = wrappers.Monitor(gym.make(\"CartPole-v0\"), \"./video\", force=True)"
   ]
  },
  {
   "cell_type": "markdown",
   "metadata": {},
   "source": [
    "## Approach\n",
    "- This is a little different from the Double Q-learning described in Sutton's book.\n",
    "- It is actually that used by Mnih and show in PyTorch's RL tutorial"
   ]
  },
  {
   "cell_type": "code",
   "execution_count": 6,
   "metadata": {},
   "outputs": [],
   "source": [
    "class QNet(nn.Module):\n",
    "    \n",
    "    def __init__(self, n_inputs, n_outputs,\n",
    "                 hidden_layer_sizes=[8, 8]):\n",
    "        \n",
    "        super().__init__()\n",
    "        \n",
    "        self.n_inputs = n_inputs\n",
    "        self.n_outputs = n_outputs\n",
    "        \n",
    "        layer_sizes = [n_inputs] + hidden_layer_sizes + [n_outputs]\n",
    "        \n",
    "        self.layers = []\n",
    "        \n",
    "        for s_in, s_out in zip(layer_sizes[:-1], layer_sizes[1:]):\n",
    "            \n",
    "            self.layers.append(nn.Linear(s_in, s_out))\n",
    "            \n",
    "        self.params = []\n",
    "        \n",
    "        for l in self.layers:\n",
    "            \n",
    "            self.params.extend(l.parameters())\n",
    "            \n",
    "        self.params = nn.ParameterList(self.params)\n",
    "        \n",
    "        return\n",
    "    \n",
    "    def forward(self, x):\n",
    "        \n",
    "        for l in self.layers:\n",
    "            \n",
    "            x = F.relu(l(x))\n",
    "            \n",
    "        return x\n",
    "    \n",
    "    \n",
    "class ReplayMemory(object):\n",
    "    \n",
    "    def __init__(self, max_memory, batch_size):\n",
    "        \n",
    "        self.memory = []\n",
    "        self.max_memory = max_memory\n",
    "        self.batch_size = batch_size\n",
    "        \n",
    "        return\n",
    "    \n",
    "    def remember(self, cur_state, next_state, action, reward, is_done):\n",
    "        \n",
    "        self.memory.append((cur_state, next_state, action, reward, is_done))\n",
    "            \n",
    "        if len(self.memory) >= self.max_memory:\n",
    "            \n",
    "            self.memory = self.memory[-self.max_memory:]\n",
    "            \n",
    "        return\n",
    "    \n",
    "    def sample(self):\n",
    "        \n",
    "        return random.sample(self.memory, self.batch_size)\n",
    "    \n",
    "    def __len__(self):\n",
    "        \n",
    "        return len(self.memory)\n",
    "    \n",
    "def to_torch(x, device):\n",
    "    \n",
    "    return torch.tensor(x, dtype=torch.float32, device=device)"
   ]
  },
  {
   "cell_type": "code",
   "execution_count": 7,
   "metadata": {},
   "outputs": [],
   "source": [
    "class Agent(object):\n",
    "    \n",
    "    def __init__(self, name, n_inputs, n_actions,\n",
    "                 hidden_layer_sizes,\n",
    "                 memory_capacity=5000, batch_size=64,\n",
    "                 epsilon=(0.99, 0.9999, 0.05, 100, 1.05, 1.01), gamma=0.99,\n",
    "                 update_every=50, eval_mode=False,\n",
    "                 model_params_path=None, optimizer_args={}):\n",
    "        \n",
    "        self.name = name\n",
    "        self.writer = SummaryWriter(os.path.join(self.name, \"logs\"))\n",
    "        \n",
    "        self.memory = ReplayMemory(memory_capacity, batch_size)\n",
    "        self.total_experience = 0\n",
    "        self.epsilon_max, self.epsilon_decay, \\\n",
    "            self.epsilon_min, self.epsilon_update_every, \\\n",
    "            self.epsilon_scale, self.min_score_improve = epsilon\n",
    "        \n",
    "        self.epsilon = self.epsilon_max\n",
    "        \n",
    "        self.n_inputs = n_inputs\n",
    "        self.n_actions = n_actions\n",
    "        self.gamma = gamma\n",
    "        \n",
    "        self.target_net = QNet(n_inputs, n_actions, hidden_layer_sizes).to(device)\n",
    "        self.policy_net = QNet(n_inputs, n_actions, hidden_layer_sizes).to(device)\n",
    "        self.optimizer = optimizer = optim.RMSprop(self.policy_net.parameters(), **optimizer_args)\n",
    "        self.criteria = nn.MSELoss()\n",
    "        self.update_every = update_every\n",
    "        \n",
    "        self.target_net.eval()\n",
    "        self.update_target_net()\n",
    "        \n",
    "        if model_params_path is not None:\n",
    "            \n",
    "            self.target_net.load_state_dict(torch.load(model_params_path))\n",
    "            \n",
    "            self.policy_net.load_state_dict(torch.load(model_params_path))\n",
    "        \n",
    "        if eval_mode:\n",
    "\n",
    "            self.policy_net.eval()\n",
    "        \n",
    "        self.score_history = []\n",
    "        \n",
    "        return\n",
    "    \n",
    "    def remember(self, *args):\n",
    "        \n",
    "        self.total_experience += 1\n",
    "        \n",
    "        self.memory.remember(*args)\n",
    "        \n",
    "    def act(self, cur_state):\n",
    "        \n",
    "        state_value = self.policy_net(cur_state)\n",
    "        \n",
    "        if np.random.rand() <= self.epsilon:\n",
    "            \n",
    "            action = np.random.randint(self.n_actions)\n",
    "            \n",
    "        else:\n",
    "            \n",
    "            with torch.no_grad():\n",
    "            \n",
    "                action = state_value.argmax().item()\n",
    "                \n",
    "        self.epsilon = np.max([self.epsilon * self.epsilon_decay, self.epsilon_min])\n",
    "                \n",
    "        return action\n",
    "    \n",
    "    def adjust_exploration_behavior(self):\n",
    "        \n",
    "        prev_ave_score = np.mean(self.score_history[-2 * self.epsilon_update_every : -self.epsilon_update_every])\n",
    "        cur_ave_score = np.mean(self.score_history[-self.epsilon_update_every:])\n",
    "        \n",
    "        delta_score = (cur_ave_score - prev_ave_score) / prev_ave_score\n",
    "        \n",
    "        if delta_score < self.min_score_improve:\n",
    "            \n",
    "            self.epsilon = np.min([self.epsilon_max, self.epsilon * self.epsilon_scale])\n",
    "            \n",
    "        return\n",
    "    \n",
    "    def update_target_net(self):\n",
    "        \n",
    "        self.target_net.load_state_dict(self.policy_net.state_dict())\n",
    "        \n",
    "        return\n",
    "    \n",
    "    def learn(self):\n",
    "        \n",
    "        if len(self.memory) < 3 * self.memory.batch_size:\n",
    "            \n",
    "            return\n",
    "        \n",
    "        else:\n",
    "            \n",
    "            cur_states_, next_states_, actions_, rewards_, is_done_ = \\\n",
    "                zip(*self.memory.sample())\n",
    "            \n",
    "            action_batch = torch.cat(actions_).type(torch.long).view(-1, 1)\n",
    "            \n",
    "            state_value_batch = self.policy_net(torch.cat(cur_states_).view(-1, n_inputs)).gather(1, action_batch)\n",
    "            \n",
    "            reward_batch = torch.cat(rewards_).view(-1, 1)\n",
    "            \n",
    "            is_done_batch = torch.tensor(is_done_, dtype=torch.bool, device=device)\n",
    "            \n",
    "            with torch.no_grad():\n",
    "                \n",
    "                next_state_value_batch = self.target_net(torch.cat(next_states_).view(-1, n_inputs)).max(1, keepdim=True).values.detach()\n",
    "                \n",
    "                next_state_value_batch[is_done_batch] = 0\n",
    "            \n",
    "            loss = self.criteria(state_value_batch,\n",
    "                                 reward_batch + (self.gamma * next_state_value_batch))\n",
    "            \n",
    "            self.optimizer.zero_grad()\n",
    "            \n",
    "            loss.backward()\n",
    "            \n",
    "            self.optimizer.step()\n",
    "                \n",
    "            return"
   ]
  },
  {
   "cell_type": "code",
   "execution_count": 8,
   "metadata": {},
   "outputs": [],
   "source": [
    "n_inputs = env.observation_space.shape[0]\n",
    "n_actions = env.action_space.n\n",
    "hidden_layer_sizes = [8, 8]\n",
    "\n",
    "episode_length = 200\n",
    "max_episodes = 1000\n",
    "batch_size = 64\n",
    "update_every = 10\n",
    "report_every = 500\n",
    "\n",
    "output_dir = \"E02-model\"\n",
    "\n",
    "if not os.path.isdir(output_dir):\n",
    "    \n",
    "    os.makedirs(output_dir)"
   ]
  },
  {
   "cell_type": "code",
   "execution_count": 9,
   "metadata": {},
   "outputs": [],
   "source": [
    "player = Agent(output_dir, n_inputs, n_actions, hidden_layer_sizes,\n",
    "               epsilon=(0.99, 0.9999, 0.05, 100, 1.2, 1.01),\n",
    "               batch_size=batch_size, update_every=update_every,\n",
    "               optimizer_args={\"lr\": 0.005})"
   ]
  },
  {
   "cell_type": "code",
   "execution_count": 10,
   "metadata": {},
   "outputs": [
    {
     "name": "stderr",
     "output_type": "stream",
     "text": [
      "/home/binghao/anaconda3/envs/torch/lib/python3.7/site-packages/numpy/core/fromnumeric.py:3335: RuntimeWarning: Mean of empty slice.\n",
      "  out=out, **kwargs)\n",
      "/home/binghao/anaconda3/envs/torch/lib/python3.7/site-packages/numpy/core/_methods.py:161: RuntimeWarning: invalid value encountered in double_scalars\n",
      "  ret = ret.dtype.type(ret / rcount)\n"
     ]
    },
    {
     "name": "stdout",
     "output_type": "stream",
     "text": [
      "Episode: 500 done. Ave. episode score (last 100): 77.49. Last epsilon: 0.06\n",
      "Episode: 1000 done. Ave. episode score (last 100): 159.25. Last epsilon: 0.06\n"
     ]
    }
   ],
   "source": [
    "for e in range(max_episodes):\n",
    "    \n",
    "    cur_state = torch.from_numpy(env.reset()).type(torch.float32).to(device)\n",
    "    \n",
    "    episode_score = 0\n",
    "    \n",
    "    for i in count():\n",
    "        \n",
    "        env.render()\n",
    "        \n",
    "        action = player.act(cur_state)\n",
    "        \n",
    "        next_state, reward, is_done, info = env.step(action)\n",
    "        \n",
    "        episode_score += reward\n",
    "        \n",
    "        player.remember(cur_state,\n",
    "                        to_torch(next_state, device),\n",
    "                        to_torch([action], device),\n",
    "                        to_torch([reward], device),\n",
    "                        is_done)\n",
    "        \n",
    "        if is_done:\n",
    "            \n",
    "            player.score_history.append(episode_score)\n",
    "            \n",
    "            player.writer.add_scalar(\"score\", episode_score, e)\n",
    "            player.writer.add_scalar(\"epsilon\", player.epsilon, e)\n",
    "            \n",
    "            break\n",
    "              \n",
    "        cur_state = to_torch(next_state, device)\n",
    "        \n",
    "        player.learn()\n",
    "        \n",
    "    if (e + 1) % player.epsilon_update_every == 0:\n",
    "        \n",
    "        player.adjust_exploration_behavior()\n",
    "        \n",
    "    if (e + 1) % update_every == 0:\n",
    "        \n",
    "        player.update_target_net()\n",
    "    \n",
    "    if (e + 1) % report_every == 0:\n",
    "            \n",
    "        print(\"Episode: {} done. Ave. episode score (last 100): {}. Last epsilon: {}\"\n",
    "              .format(e + 1,\n",
    "                      np.mean(player.score_history[-100:]),\n",
    "                      np.round(player.epsilon, 4)))"
   ]
  },
  {
   "cell_type": "code",
   "execution_count": 11,
   "metadata": {},
   "outputs": [],
   "source": [
    "player.update_target_net()"
   ]
  },
  {
   "cell_type": "code",
   "execution_count": 12,
   "metadata": {},
   "outputs": [],
   "source": [
    "torch.save(player.target_net.state_dict(), os.path.join(output_dir, \"model.pt\"))"
   ]
  },
  {
   "cell_type": "code",
   "execution_count": 13,
   "metadata": {},
   "outputs": [],
   "source": [
    "env.close()"
   ]
  },
  {
   "cell_type": "code",
   "execution_count": 14,
   "metadata": {},
   "outputs": [
    {
     "data": {
      "text/plain": [
       "[<matplotlib.lines.Line2D at 0x7f5006445ad0>]"
      ]
     },
     "execution_count": 14,
     "metadata": {},
     "output_type": "execute_result"
    },
    {
     "data": {
      "image/png": "[encoded data removed]",
      "text/plain": [
       "<Figure size 432x288 with 1 Axes>"
      ]
     },
     "metadata": {
      "needs_background": "light"
     },
     "output_type": "display_data"
    }
   ],
   "source": [
    "plt.plot(player.score_history)"
   ]
  },
  {
   "cell_type": "code",
   "execution_count": 15,
   "metadata": {},
   "outputs": [],
   "source": [
    "eval_player = Agent(output_dir, n_inputs, n_actions, hidden_layer_sizes,\n",
    "               epsilon=(0.99, 0.9999, 0.05, 100, 1.05, 1.01),\n",
    "               batch_size=batch_size, update_every=update_every, eval_mode=True, model_params_path=os.path.join(output_dir, \"model.pt\"),\n",
    "               optimizer_args={\"lr\": 0.01})"
   ]
  },
  {
   "cell_type": "code",
   "execution_count": 16,
   "metadata": {},
   "outputs": [
    {
     "name": "stdout",
     "output_type": "stream",
     "text": [
      "Evaluated 9 episodes\n",
      "Evaluated 19 episodes\n",
      "Evaluated 29 episodes\n",
      "Evaluated 39 episodes\n",
      "Evaluated 49 episodes\n",
      "Evaluated 59 episodes\n",
      "Evaluated 69 episodes\n",
      "Evaluated 79 episodes\n",
      "Evaluated 89 episodes\n",
      "Evaluated 99 episodes\n"
     ]
    }
   ],
   "source": [
    "eval_scores = []\n",
    "\n",
    "for e in range(100):\n",
    "    \n",
    "    cur_state = to_torch(env.reset(), device)\n",
    "\n",
    "    for i in range(200):\n",
    "\n",
    "        env.render()\n",
    "\n",
    "        next_state, reward, is_done, info = env.step(eval_player.policy_net(cur_state).argmax().item())\n",
    "\n",
    "        cur_state = to_torch(next_state, device)\n",
    "\n",
    "        if is_done:\n",
    "\n",
    "            break\n",
    "    \n",
    "    if e % 10 == 9:\n",
    "        \n",
    "        print(\"Evaluated {} episodes\".format(e))\n",
    "            \n",
    "    eval_scores.append(i)"
   ]
  },
  {
   "cell_type": "code",
   "execution_count": 17,
   "metadata": {},
   "outputs": [],
   "source": [
    "env.close()"
   ]
  },
  {
   "cell_type": "code",
   "execution_count": 18,
   "metadata": {},
   "outputs": [
    {
     "data": {
      "text/plain": [
       "199.0"
      ]
     },
     "execution_count": 18,
     "metadata": {},
     "output_type": "execute_result"
    }
   ],
   "source": [
    "np.mean(eval_scores)"
   ]
  },
  {
   "cell_type": "code",
   "execution_count": null,
   "metadata": {},
   "outputs": [],
   "source": []
  }
 ],
 "metadata": {
  "kernelspec": {
   "display_name": "Python 3",
   "language": "python",
   "name": "python3"
  },
  "language_info": {
   "codemirror_mode": {
    "name": "ipython",
    "version": 3
   },
   "file_extension": ".py",
   "mimetype": "text/x-python",
   "name": "python",
   "nbconvert_exporter": "python",
   "pygments_lexer": "ipython3",
   "version": "3.7.7"
  }
 },
 "nbformat": 4,
 "nbformat_minor": 4
}
